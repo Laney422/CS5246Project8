{
 "cells": [
  {
   "cell_type": "code",
   "execution_count": 2,
   "id": "da8eff3b",
   "metadata": {
    "ExecuteTime": {
     "end_time": "2024-04-19T22:49:48.520457Z",
     "start_time": "2024-04-19T22:49:48.062826Z"
    }
   },
   "outputs": [],
   "source": [
    "import pandas as pd\n",
    "import csv"
   ]
  },
  {
   "cell_type": "code",
   "execution_count": 3,
   "id": "15fe806e",
   "metadata": {
    "ExecuteTime": {
     "end_time": "2024-04-19T22:49:48.963228Z",
     "start_time": "2024-04-19T22:49:48.522462Z"
    }
   },
   "outputs": [
    {
     "data": {
      "text/html": [
       "<div>\n",
       "<style scoped>\n",
       "    .dataframe tbody tr th:only-of-type {\n",
       "        vertical-align: middle;\n",
       "    }\n",
       "\n",
       "    .dataframe tbody tr th {\n",
       "        vertical-align: top;\n",
       "    }\n",
       "\n",
       "    .dataframe thead th {\n",
       "        text-align: right;\n",
       "    }\n",
       "</style>\n",
       "<table border=\"1\" class=\"dataframe\">\n",
       "  <thead>\n",
       "    <tr style=\"text-align: right;\">\n",
       "      <th></th>\n",
       "      <th>id</th>\n",
       "      <th>anger</th>\n",
       "      <th>annoyance</th>\n",
       "      <th>disappointment</th>\n",
       "      <th>disapproval</th>\n",
       "      <th>disgust</th>\n",
       "      <th>embarrassment</th>\n",
       "      <th>fear</th>\n",
       "      <th>grief</th>\n",
       "      <th>nervousness</th>\n",
       "      <th>remorse</th>\n",
       "      <th>sadness</th>\n",
       "      <th>positive</th>\n",
       "      <th>neutral</th>\n",
       "      <th>class</th>\n",
       "      <th>text</th>\n",
       "      <th>token</th>\n",
       "      <th>sentiment</th>\n",
       "      <th>token_count</th>\n",
       "      <th>text_length</th>\n",
       "    </tr>\n",
       "  </thead>\n",
       "  <tbody>\n",
       "    <tr>\n",
       "      <th>0</th>\n",
       "      <td>0</td>\n",
       "      <td>0.011750</td>\n",
       "      <td>0.962781</td>\n",
       "      <td>0.012052</td>\n",
       "      <td>0.002271</td>\n",
       "      <td>0.007220</td>\n",
       "      <td>0.009971</td>\n",
       "      <td>0.050493</td>\n",
       "      <td>0.005130</td>\n",
       "      <td>0.059805</td>\n",
       "      <td>0.039979</td>\n",
       "      <td>0.045396</td>\n",
       "      <td>0.028717</td>\n",
       "      <td>0.010098</td>\n",
       "      <td>almosthomeless</td>\n",
       "      <td>I literally don’t know where to ask this but I...</td>\n",
       "      <td>liter dont know ask serious question advic pls...</td>\n",
       "      <td>-0.063889</td>\n",
       "      <td>38.0</td>\n",
       "      <td>85.0</td>\n",
       "    </tr>\n",
       "    <tr>\n",
       "      <th>1</th>\n",
       "      <td>1</td>\n",
       "      <td>0.003595</td>\n",
       "      <td>0.008378</td>\n",
       "      <td>0.049299</td>\n",
       "      <td>0.006292</td>\n",
       "      <td>0.006485</td>\n",
       "      <td>0.011670</td>\n",
       "      <td>0.028163</td>\n",
       "      <td>0.003882</td>\n",
       "      <td>0.064654</td>\n",
       "      <td>0.008756</td>\n",
       "      <td>0.908127</td>\n",
       "      <td>0.001446</td>\n",
       "      <td>0.008868</td>\n",
       "      <td>almosthomeless</td>\n",
       "      <td>I'm almost 16 and am going to study med but I ...</td>\n",
       "      <td>im almost  go studi med need take coach henc m...</td>\n",
       "      <td>0.136364</td>\n",
       "      <td>29.0</td>\n",
       "      <td>58.0</td>\n",
       "    </tr>\n",
       "    <tr>\n",
       "      <th>2</th>\n",
       "      <td>2</td>\n",
       "      <td>0.011410</td>\n",
       "      <td>0.005968</td>\n",
       "      <td>0.025427</td>\n",
       "      <td>0.006605</td>\n",
       "      <td>0.007571</td>\n",
       "      <td>0.013576</td>\n",
       "      <td>0.845470</td>\n",
       "      <td>0.021448</td>\n",
       "      <td>0.343082</td>\n",
       "      <td>0.006201</td>\n",
       "      <td>0.701726</td>\n",
       "      <td>0.003424</td>\n",
       "      <td>0.027749</td>\n",
       "      <td>almosthomeless</td>\n",
       "      <td>I got a job, I go to orientation Tuesday. Tomo...</td>\n",
       "      <td>got job go orient tuesday tomorrow homeless we...</td>\n",
       "      <td>0.050451</td>\n",
       "      <td>83.0</td>\n",
       "      <td>171.0</td>\n",
       "    </tr>\n",
       "    <tr>\n",
       "      <th>3</th>\n",
       "      <td>3</td>\n",
       "      <td>0.003747</td>\n",
       "      <td>0.010543</td>\n",
       "      <td>0.009026</td>\n",
       "      <td>0.031022</td>\n",
       "      <td>0.007493</td>\n",
       "      <td>0.008842</td>\n",
       "      <td>0.676281</td>\n",
       "      <td>0.004816</td>\n",
       "      <td>0.338001</td>\n",
       "      <td>0.007555</td>\n",
       "      <td>0.006759</td>\n",
       "      <td>0.005267</td>\n",
       "      <td>0.436492</td>\n",
       "      <td>almosthomeless</td>\n",
       "      <td>Struggling over here to get everything lined u...</td>\n",
       "      <td>struggl get everyth line upim need refug seek ...</td>\n",
       "      <td>-0.002083</td>\n",
       "      <td>119.0</td>\n",
       "      <td>228.0</td>\n",
       "    </tr>\n",
       "    <tr>\n",
       "      <th>4</th>\n",
       "      <td>4</td>\n",
       "      <td>0.003194</td>\n",
       "      <td>0.001744</td>\n",
       "      <td>0.005609</td>\n",
       "      <td>0.001580</td>\n",
       "      <td>0.006407</td>\n",
       "      <td>0.002710</td>\n",
       "      <td>0.005007</td>\n",
       "      <td>0.006430</td>\n",
       "      <td>0.008522</td>\n",
       "      <td>0.006978</td>\n",
       "      <td>0.476130</td>\n",
       "      <td>0.071973</td>\n",
       "      <td>0.222671</td>\n",
       "      <td>almosthomeless</td>\n",
       "      <td>Ill be homeless officially Monday. Moving out ...</td>\n",
       "      <td>ill homeless offici monday move sunday hope st...</td>\n",
       "      <td>-0.100000</td>\n",
       "      <td>39.0</td>\n",
       "      <td>81.0</td>\n",
       "    </tr>\n",
       "  </tbody>\n",
       "</table>\n",
       "</div>"
      ],
      "text/plain": [
       "  id     anger  annoyance  disappointment  disapproval   disgust  \\\n",
       "0  0  0.011750   0.962781        0.012052     0.002271  0.007220   \n",
       "1  1  0.003595   0.008378        0.049299     0.006292  0.006485   \n",
       "2  2  0.011410   0.005968        0.025427     0.006605  0.007571   \n",
       "3  3  0.003747   0.010543        0.009026     0.031022  0.007493   \n",
       "4  4  0.003194   0.001744        0.005609     0.001580  0.006407   \n",
       "\n",
       "   embarrassment      fear     grief  nervousness   remorse   sadness  \\\n",
       "0       0.009971  0.050493  0.005130     0.059805  0.039979  0.045396   \n",
       "1       0.011670  0.028163  0.003882     0.064654  0.008756  0.908127   \n",
       "2       0.013576  0.845470  0.021448     0.343082  0.006201  0.701726   \n",
       "3       0.008842  0.676281  0.004816     0.338001  0.007555  0.006759   \n",
       "4       0.002710  0.005007  0.006430     0.008522  0.006978  0.476130   \n",
       "\n",
       "   positive   neutral           class  \\\n",
       "0  0.028717  0.010098  almosthomeless   \n",
       "1  0.001446  0.008868  almosthomeless   \n",
       "2  0.003424  0.027749  almosthomeless   \n",
       "3  0.005267  0.436492  almosthomeless   \n",
       "4  0.071973  0.222671  almosthomeless   \n",
       "\n",
       "                                                text  \\\n",
       "0  I literally don’t know where to ask this but I...   \n",
       "1  I'm almost 16 and am going to study med but I ...   \n",
       "2  I got a job, I go to orientation Tuesday. Tomo...   \n",
       "3  Struggling over here to get everything lined u...   \n",
       "4  Ill be homeless officially Monday. Moving out ...   \n",
       "\n",
       "                                               token  sentiment  token_count  \\\n",
       "0  liter dont know ask serious question advic pls...  -0.063889         38.0   \n",
       "1  im almost  go studi med need take coach henc m...   0.136364         29.0   \n",
       "2  got job go orient tuesday tomorrow homeless we...   0.050451         83.0   \n",
       "3  struggl get everyth line upim need refug seek ...  -0.002083        119.0   \n",
       "4  ill homeless offici monday move sunday hope st...  -0.100000         39.0   \n",
       "\n",
       "   text_length  \n",
       "0         85.0  \n",
       "1         58.0  \n",
       "2        171.0  \n",
       "3        228.0  \n",
       "4         81.0  "
      ]
     },
     "execution_count": 3,
     "metadata": {},
     "output_type": "execute_result"
    }
   ],
   "source": [
    "df_train = pd.read_csv('bert_all_prob.csv', engine='python')\n",
    "embedding_filepath = 'glove.42B.300d.txt'\n",
    "class_type = ['adhd', 'anxiety', 'bipolar', 'depression', 'eatingdisorders', 'ocd', 'ptsd', 'normal_positive','selfharm', 'stress']\n",
    "        \n",
    "#df_train = df_train[df_train['class'].isin(class_type)]\n",
    "df_train.head()"
   ]
  },
  {
   "cell_type": "code",
   "execution_count": 4,
   "id": "d5d8f4c651e54946",
   "metadata": {
    "ExecuteTime": {
     "end_time": "2024-04-19T22:49:48.979228Z",
     "start_time": "2024-04-19T22:49:48.966220Z"
    }
   },
   "outputs": [
    {
     "data": {
      "text/plain": [
       "13"
      ]
     },
     "execution_count": 4,
     "metadata": {},
     "output_type": "execute_result"
    }
   ],
   "source": [
    "df_train[['anger', 'annoyance', 'disappointment', 'disapproval', 'disgust',\n",
    "       'embarrassment', 'fear', 'grief', 'nervousness', 'remorse', 'sadness',\n",
    "       'positive', 'neutral']].head()\n",
    "len(['anger', 'annoyance', 'disappointment', 'disapproval', 'disgust',\n",
    "       'embarrassment', 'fear', 'grief', 'nervousness', 'remorse', 'sadness',\n",
    "       'positive', 'neutral'])"
   ]
  },
  {
   "cell_type": "code",
   "execution_count": 5,
   "id": "f40405b6",
   "metadata": {
    "ExecuteTime": {
     "end_time": "2024-04-19T22:49:48.995230Z",
     "start_time": "2024-04-19T22:49:48.981220Z"
    }
   },
   "outputs": [
    {
     "name": "stdout",
     "output_type": "stream",
     "text": [
      "Number of training samples: 14794\n"
     ]
    }
   ],
   "source": [
    "print(\"Number of training samples: {}\".format(len(df_train)))"
   ]
  },
  {
   "cell_type": "markdown",
   "id": "1a1aef03",
   "metadata": {},
   "source": [
    "Let's visualize the distribution of class labels in form of a pie chart."
   ]
  },
  {
   "cell_type": "code",
   "execution_count": 6,
   "id": "5b3627af",
   "metadata": {
    "ExecuteTime": {
     "end_time": "2024-04-19T22:49:49.835475Z",
     "start_time": "2024-04-19T22:49:48.997221Z"
    }
   },
   "outputs": [
    {
     "data": {
      "text/plain": [
       "<Axes: >"
      ]
     },
     "execution_count": 6,
     "metadata": {},
     "output_type": "execute_result"
    },
    {
     "data": {
      "image/png": "[encoded data removed]",
      "text/plain": [
       "<Figure size 6000x500 with 1 Axes>"
      ]
     },
     "metadata": {},
     "output_type": "display_data"
    }
   ],
   "source": [
    "kwargs = dict(\n",
    "    startangle = 90,\n",
    "    fontsize   = 13,\n",
    "    figsize    = (60,5),\n",
    "    autopct    = '%1.1f%%',\n",
    "    label      = ''\n",
    ")\n",
    "\n",
    "df_train['class'].value_counts().plot.pie(**kwargs)"
   ]
  },
  {
   "cell_type": "code",
   "execution_count": 7,
   "id": "ede104e333e7f021",
   "metadata": {
    "ExecuteTime": {
     "end_time": "2024-04-19T22:49:49.850837Z",
     "start_time": "2024-04-19T22:49:49.837467Z"
    }
   },
   "outputs": [
    {
     "data": {
      "text/plain": [
       "13"
      ]
     },
     "execution_count": 7,
     "metadata": {},
     "output_type": "execute_result"
    }
   ],
   "source": [
    "len(df_train['class'].value_counts())"
   ]
  },
  {
   "cell_type": "markdown",
   "id": "65fdb7ca",
   "metadata": {},
   "source": [
    "While not perfectly distributed, the class labels are arguebly well balanced."
   ]
  },
  {
   "cell_type": "code",
   "execution_count": 8,
   "id": "e274af20",
   "metadata": {
    "ExecuteTime": {
     "end_time": "2024-04-19T22:49:54.211307Z",
     "start_time": "2024-04-19T22:49:49.851847Z"
    }
   },
   "outputs": [],
   "source": [
    "import pandas as pd\n",
    "import numpy as np\n",
    "from sklearn.model_selection import train_test_split\n",
    "from torch.utils.data import Dataset, DataLoader\n",
    "import torch\n",
    "import torch.nn as nn\n",
    "import torch.optim as optim\n",
    "import matplotlib.pyplot as plt\n",
    "from tqdm import tqdm\n",
    "import spacy\n",
    "from torchtext.vocab import GloVe, Vectors\n",
    "from torch.nn.utils.rnn import pad_sequence,pack_padded_sequence,pack_sequence,pad_packed_sequence"
   ]
  },
  {
   "cell_type": "code",
   "execution_count": 9,
   "id": "eb572bfd",
   "metadata": {
    "ExecuteTime": {
     "end_time": "2024-04-19T22:49:54.226330Z",
     "start_time": "2024-04-19T22:49:54.213331Z"
    }
   },
   "outputs": [],
   "source": [
    "def DataCleaning(df):\n",
    "    #find duplicated text\n",
    "    duplicated_texts = df[df.duplicated(['Text'], keep=False)]\n",
    "\n",
    "    for text in duplicated_texts['Text'].unique():\n",
    "        labels = duplicated_texts[duplicated_texts['Text']==text]['Label'].unique()\n",
    "        if len(labels) > 1:\n",
    "            #if there is different label, dirty, drop all\n",
    "            df = df.drop(duplicated_texts[(duplicated_texts['Text']==text)].index)\n",
    "\n",
    "    df = df.drop_duplicates(['Text'], keep='first')\n",
    "    \n",
    "    return df"
   ]
  },
  {
   "cell_type": "code",
   "execution_count": 10,
   "id": "cdf905b9",
   "metadata": {
    "ExecuteTime": {
     "end_time": "2024-04-19T22:49:54.242339Z",
     "start_time": "2024-04-19T22:49:54.227331Z"
    }
   },
   "outputs": [],
   "source": [
    "from sklearn.preprocessing import LabelEncoder\n",
    "\n",
    "\n",
    "class DEClassificationDataset(Dataset):\n",
    "    def __init__(self, df, vocab,label_dict = None):\n",
    "        self.df = df\n",
    "        self.vocab = vocab\n",
    "        self.tokenizer = spacy.load('en_core_web_sm')\n",
    "        \n",
    "        label_encoder = LabelEncoder()\n",
    "        labels = label_encoder.fit_transform(df['class'])\n",
    "        \n",
    "        #self.label_dict = label_dict\n",
    "        #if label_dict is None:\n",
    "        #    self.label_dict = {item: index for index, item in enumerate(np.sort(np.unique(df['class'].to_numpy())))} \n",
    "        \n",
    "        emo_col = ['anger', 'annoyance', 'disappointment', 'disapproval', 'disgust',\n",
    "       'embarrassment', 'fear', 'grief', 'nervousness', 'remorse', 'sadness',\n",
    "       'positive', 'neutral']\n",
    "        texts = df['text'].values.tolist()\n",
    "        emotions = df[emo_col].values.tolist()\n",
    "        \n",
    "        self.sample = []\n",
    "        i= 0\n",
    "        for text in tqdm(texts):\n",
    "            #Convert word to word vector.\n",
    "            tokens = [token.text.lower() for token in self.tokenizer(text)]\n",
    "            indices = []\n",
    "            for token in tokens:\n",
    "                indices.append(np.array(self.vocab[token]))\n",
    "            self.sample.append((torch.tensor(np.array(indices)), torch.tensor(np.array(emotions[i]))))\n",
    "            i+=1\n",
    "        \n",
    "        if 'class' in df.columns:\n",
    "            #Convert text Label to int Label.\n",
    "            self.labels = labels\n",
    "            self.labels = torch.tensor([element for element in self.labels],dtype=torch.long)\n",
    "        else:\n",
    "            #use id as label.\n",
    "            self.labels = df['id'].values.tolist()\n",
    "            \n",
    "        #self.relabel_dict = {value: key for key, value in self.label_dict.items()}\n",
    "    \n",
    "    def int2label(self,labels):\n",
    "        #int Label to text Label.\n",
    "        return [self.relabel_dict[element] for element in labels]\n",
    "\n",
    "    def __len__(self):\n",
    "        return len(self.df)\n",
    "\n",
    "    def __getitem__(self, idx):\n",
    "        return self.sample[idx],self.labels[idx]\n",
    "    \n"
   ]
  },
  {
   "cell_type": "code",
   "execution_count": 11,
   "id": "606a0dd4a45af3f7",
   "metadata": {
    "ExecuteTime": {
     "end_time": "2024-04-19T22:49:54.258113Z",
     "start_time": "2024-04-19T22:49:54.243331Z"
    }
   },
   "outputs": [],
   "source": [
    "def collate_fn(batch):\n",
    "    #pad input for RNN.\n",
    "    batch.sort(key=lambda x: len(x[0][0]), reverse=True)\n",
    "    sequences, labels = zip(*batch)\n",
    "    \n",
    "    sequences_1 = [s[0] for s in sequences] \n",
    "    ems = [s[1] for s in sequences]\n",
    "    \n",
    "    seq_len = [s.size(0) for s in sequences_1] \n",
    "    padded_sequences = pad_sequence(sequences_1,batch_first=False)\n",
    "    padded_sequences = pack_padded_sequence(padded_sequences, seq_len)\n",
    "    labels = torch.tensor(labels, dtype=torch.long)\n",
    "    ems = torch.stack(ems).float()\n",
    "\n",
    "    \n",
    "    return (padded_sequences,ems) , labels"
   ]
  },
  {
   "cell_type": "code",
   "execution_count": 12,
   "id": "32f6c46a",
   "metadata": {
    "ExecuteTime": {
     "end_time": "2024-04-19T22:49:57.256591Z",
     "start_time": "2024-04-19T22:49:54.275113Z"
    }
   },
   "outputs": [],
   "source": [
    "glove = GloVe(name='840B', dim=300,cache='E:\\\\_temp_model\\\\.vector_cache')"
   ]
  },
  {
   "cell_type": "markdown",
   "id": "14a1346cf14ceb09",
   "metadata": {},
   "source": [
    "word2vector = Vectors(name='model.txt', cache='E:\\\\_temp_model\\\\.vector_cache', \n",
    "                     url='http://vectors.nlpl.eu/repository/20/82.zip')"
   ]
  },
  {
   "cell_type": "code",
   "execution_count": 13,
   "id": "5c9c27b4",
   "metadata": {
    "ExecuteTime": {
     "end_time": "2024-04-19T22:49:57.336510Z",
     "start_time": "2024-04-19T22:49:57.290511Z"
    }
   },
   "outputs": [],
   "source": [
    "class LSTMClassifier(nn.Module):\n",
    "    def __init__(self, hidden_dim = 100, output_dim = 5, n_layers = 2,\n",
    "                 bidirectional=False, dropout = 0.3):\n",
    "        super().__init__()\n",
    "        self.device = torch.device('cuda' if torch.cuda.is_available() else 'cpu')\n",
    "        \n",
    "        #sample RNN to encode the word vector\n",
    "        self.lstm = nn.LSTM(300, hidden_dim, num_layers=n_layers, \n",
    "                            bidirectional=bidirectional, dropout=dropout)\n",
    "        #sample mlp for classify\n",
    "        self.fc = nn.Sequential( #sample mlp for classify\n",
    "            #nn.Linear(hidden_dim * 2 if bidirectional else hidden_dim, hidden_dim),\n",
    "            nn.Linear(hidden_dim * 2+13 if bidirectional else hidden_dim+13, hidden_dim),\n",
    "            nn.Sigmoid(),\n",
    "            nn.Linear(hidden_dim, output_dim),\n",
    "            nn.Softmax(dim=1),\n",
    "        )\n",
    "        self.losses = []\n",
    "        self.accs = []\n",
    "        \n",
    "        self.to(self.device)\n",
    "\n",
    "    def forward(self, x,e):\n",
    "        #print(e)\n",
    "        lstm_output, _ = self.lstm(x)\n",
    "        seq_unpacked, lens_unpacked = pad_packed_sequence(lstm_output,batch_first=False)\n",
    "        #sum the output of each state, since pad words have value 0, ignore\n",
    "        y = torch.sum(seq_unpacked,dim=0)\n",
    "        y = torch.nn.functional.relu(y)\n",
    "        \n",
    "        #print(y)\n",
    "        y = torch.cat((y,e),1)\n",
    "        #print(y)\n",
    "        y = self.fc(y)\n",
    "        return y\n",
    "    \n",
    "    def fit(self, train_loader,test_loader=None,epoch = 10,optimizer=None):\n",
    "        criterion = nn.CrossEntropyLoss()\n",
    "        if optimizer is None:\n",
    "            optimizer = optim.Adam(self.parameters(), lr=0.002)\n",
    "        \n",
    "        \n",
    "        pbar = tqdm(range(epoch))\n",
    "        for epoch in pbar:\n",
    "            total_loss = 0\n",
    "            for x,t in train_loader:  \n",
    "                \n",
    "                txt,ems = x\n",
    "                txt = txt.to(self.device)\n",
    "                ems = ems.to(self.device)\n",
    "                t = t.to(self.device)\n",
    "                optimizer.zero_grad()\n",
    "\n",
    "                y = self(txt,ems)\n",
    "                loss = criterion(y,t)\n",
    "                total_loss+=loss.item()\n",
    "                loss.backward()\n",
    "\n",
    "                optimizer.step()\n",
    "            total_loss = total_loss/len(train_loader)\n",
    "            self.losses += [total_loss]\n",
    "            \n",
    "            if test_loader is not None:\n",
    "                acc = self.evaluate(test_loader)\n",
    "                self.accs+=[acc]\n",
    "                pbar.set_description(f\"total Loss: {total_loss}, acc: {acc}\")\n",
    "            else:\n",
    "                pbar.set_description(f\"total Loss: {total_loss}\")\n",
    "            \n",
    "        fig, ax1 = plt.subplots(figsize=(6,4))\n",
    "\n",
    "        ax1.plot(self.losses, color='blue')\n",
    "        ax1.set_yscale('log')\n",
    "        ax1.set_ylabel('log Loss', color='blue')\n",
    "        \n",
    "        if test_loader is not None:\n",
    "            ax2 = ax1.twinx()\n",
    "            ax2.plot(self.accs, color='red')\n",
    "            ax2.set_ylabel('Test Accuracy', color='red')\n",
    "\n",
    "        ax1.set_xlabel('Epoch')\n",
    "        plt.title('Training Curves')\n",
    "        plt.show()\n",
    "            \n",
    "    def evaluate(self,data_loader):\n",
    "        total_correct = 0\n",
    "        count = 0\n",
    "        with torch.no_grad():\n",
    "            for x,t in data_loader:\n",
    "                \n",
    "                txt,ems = x\n",
    "                txt = txt.to(self.device)\n",
    "                ems = ems.to(self.device)\n",
    "\n",
    "                predictions = self(txt,ems).cpu().numpy()\n",
    "                total_correct += np.sum(np.argmax(predictions,1)== t.cpu().numpy())\n",
    "                count+=len(t)\n",
    "        return total_correct/count\n",
    "    \n",
    "    def predict(self,data_loader):\n",
    "        with torch.no_grad():\n",
    "            ids = []\n",
    "            predict_labels = []\n",
    "            for x,t in data_loader:\n",
    "                txt,ems = x\n",
    "                txt = txt.to(self.device)\n",
    "                ems = ems.to(self.device)\n",
    "                \n",
    "                predictions = self(txt,ems).cpu().numpy()\n",
    "                predict_labels += list(np.argmax(predictions,1))\n",
    "                ids += t\n",
    "        return ids, predict_labels\n",
    "    "
   ]
  },
  {
   "cell_type": "code",
   "execution_count": 14,
   "id": "8a6416567caca56a",
   "metadata": {
    "ExecuteTime": {
     "end_time": "2024-04-19T22:56:13.053819Z",
     "start_time": "2024-04-19T22:49:57.338511Z"
    }
   },
   "outputs": [
    {
     "name": "stderr",
     "output_type": "stream",
     "text": [
      "100%|██████████| 16781/16781 [04:59<00:00, 56.07it/s]\n",
      "100%|██████████| 4196/4196 [01:14<00:00, 56.00it/s]\n"
     ]
    }
   ],
   "source": [
    "#df = pd.read_csv(\"data/train.csv\", sep=\"\\t\", quoting=csv.QUOTE_NONE)\n",
    "filepath = 'bert_suicide_prob.csv'\n",
    "df = pd.read_csv(filepath, engine='python', on_bad_lines='skip')\n",
    "    \n",
    "if filepath == 'bert_suicide_prob.csv' or 'suicide_probs.csv':\n",
    "    class_type = ['suicide', 'non-suicide']\n",
    "elif filepath == 'bert_all_prob.csv' or 'all_probs.csv':\n",
    "    class_type = ['adhd', 'anxiety', 'bipolar', 'depression', 'eatingdisorders', 'ocd', 'ptsd', 'normal_positive','selfharm', 'stress']\n",
    "        \n",
    "df = df.dropna()\n",
    "#class_type = ['adhd', 'anxiety', 'bipolar', 'depression', 'eatingdisorders', 'ocd', 'ptsd', 'normal_positive','selfharm', 'stress']\n",
    "        \n",
    "df = df[df['class'].isin(class_type)]\n",
    "#df = DataCleaning(df)\n",
    "train_df, test_df = train_test_split(df, test_size=0.2)\n",
    "\n",
    "train_dataset = DEClassificationDataset(train_df,glove)\n",
    "test_dataset = DEClassificationDataset(test_df,glove)"
   ]
  },
  {
   "cell_type": "code",
   "execution_count": 15,
   "id": "65c355032afc2f7c",
   "metadata": {
    "ExecuteTime": {
     "end_time": "2024-04-19T22:56:13.069937Z",
     "start_time": "2024-04-19T22:56:13.054810Z"
    }
   },
   "outputs": [],
   "source": [
    "batch_size = 128\n",
    "\n",
    "train_loader = DataLoader(train_dataset, batch_size=batch_size, shuffle=True,num_workers=0,collate_fn=collate_fn)\n",
    "test_loader = DataLoader(test_dataset, batch_size=batch_size, shuffle=False,num_workers=0,collate_fn=collate_fn)"
   ]
  },
  {
   "cell_type": "code",
   "execution_count": null,
   "id": "eb1a0105",
   "metadata": {
    "ExecuteTime": {
     "start_time": "2024-04-19T22:56:13.071445Z"
    },
    "jupyter": {
     "is_executing": true
    }
   },
   "outputs": [
    {
     "name": "stderr",
     "output_type": "stream",
     "text": [
      "total Loss: 0.3257914675456105, acc: 0.9413727359389895:  77%|███████▋  | 77/100 [1:18:44<23:38, 61.66s/it] "
     ]
    }
   ],
   "source": [
    "lstm = LSTMClassifier(dropout=0.2,output_dim=len(df['class'].value_counts()),bidirectional=True,n_layers=2)\n",
    "optimizer = optim.Adam(lstm.parameters(), lr=0.002)\n",
    "lstm.fit(train_loader,test_loader,epoch=100,optimizer=optimizer)"
   ]
  },
  {
   "cell_type": "code",
   "execution_count": null,
   "id": "9e9d1d6e28f51a49",
   "metadata": {
    "jupyter": {
     "is_executing": true
    }
   },
   "outputs": [],
   "source": [
    "\n",
    "for x, t in test_loader:\n",
    "    print(t)"
   ]
  },
  {
   "cell_type": "code",
   "execution_count": null,
   "id": "7231c34cf41b8487",
   "metadata": {
    "jupyter": {
     "is_executing": true
    }
   },
   "outputs": [],
   "source": [
    "len(df['class'].value_counts())"
   ]
  },
  {
   "cell_type": "code",
   "execution_count": null,
   "id": "ea204bd2",
   "metadata": {
    "jupyter": {
     "is_executing": true
    }
   },
   "outputs": [],
   "source": [
    "print(lstm.evaluate(test_loader))"
   ]
  },
  {
   "cell_type": "code",
   "execution_count": null,
   "id": "ec0fc030c6203924",
   "metadata": {
    "jupyter": {
     "is_executing": true
    }
   },
   "outputs": [],
   "source": [
    "lstm.fit(train_loader,test_loader,epoch=20)"
   ]
  },
  {
   "cell_type": "code",
   "execution_count": null,
   "id": "1f0d2031ec411722",
   "metadata": {
    "jupyter": {
     "is_executing": true
    }
   },
   "outputs": [],
   "source": [
    "lstm.fit(train_loader,test_loader,epoch=50)"
   ]
  },
  {
   "cell_type": "code",
   "execution_count": null,
   "id": "85db0e6a405c7ec",
   "metadata": {
    "jupyter": {
     "is_executing": true
    }
   },
   "outputs": [],
   "source": [
    "print(lstm.evaluate(test_loader))"
   ]
  },
  {
   "cell_type": "code",
   "execution_count": null,
   "id": "4f135533",
   "metadata": {
    "jupyter": {
     "is_executing": true
    }
   },
   "outputs": [],
   "source": [
    "from sklearn.metrics import classification_report\n",
    "from sklearn.metrics import confusion_matrix\n",
    "\n",
    "\n",
    "all_predictions = []\n",
    "all_labels = []\n",
    "\n",
    "with torch.no_grad():\n",
    "    for x, t in test_loader:\n",
    "        txt, ems = x\n",
    "        txt = txt.to(lstm.device)\n",
    "        ems = ems.to(lstm.device)\n",
    "        t = t.to(lstm.device)\n",
    "\n",
    "        predictions = lstm(txt, ems).cpu()  # No need to convert to numpy here\n",
    "        predicted_labels = torch.argmax(predictions, dim=1)\n",
    "        \n",
    "        all_predictions.extend(predicted_labels.numpy())\n",
    "        all_labels.extend(t.cpu().numpy())\n",
    "\n",
    "# Now we compute the confusion matrix and classification report\n",
    "cm = confusion_matrix(all_labels, all_predictions)\n",
    "cr = classification_report(all_labels, all_predictions, digits=3)\n",
    "\n",
    "print(\"\\nClassification Report:\")\n",
    "print(cr)\n"
   ]
  },
  {
   "cell_type": "code",
   "execution_count": null,
   "id": "3c548e68",
   "metadata": {
    "jupyter": {
     "is_executing": true
    }
   },
   "outputs": [],
   "source": [
    "#torch.save(lstm.state_dict(), 'all_data_model_parameters.pth')"
   ]
  }
 ],
 "metadata": {
  "kernelspec": {
   "display_name": "Python 3",
   "language": "python",
   "name": "python3"
  },
  "language_info": {
   "codemirror_mode": {
    "name": "ipython",
    "version": 3
   },
   "file_extension": ".py",
   "mimetype": "text/x-python",
   "name": "python",
   "nbconvert_exporter": "python",
   "pygments_lexer": "ipython3",
   "version": "3.8.5"
  }
 },
 "nbformat": 4,
 "nbformat_minor": 5
}
